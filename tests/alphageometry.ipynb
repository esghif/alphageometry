{
  "nbformat": 4,
  "nbformat_minor": 0,
  "metadata": {
    "colab": {
      "provenance": [],
      "authorship_tag": "ABX9TyPfOR3PpT90jtAlkQF8xTS8",
      "include_colab_link": true
    },
    "kernelspec": {
      "name": "python3",
      "display_name": "Python 3"
    },
    "language_info": {
      "name": "python"
    }
  },
  "cells": [
    {
      "cell_type": "markdown",
      "metadata": {
        "id": "view-in-github",
        "colab_type": "text"
      },
      "source": [
        "<a href=\"https://colab.research.google.com/github/esghif/alphageometry/blob/colab/tests/alphageometry.ipynb\" target=\"_parent\"><img src=\"https://colab.research.google.com/assets/colab-badge.svg\" alt=\"Open In Colab\"/></a>"
      ]
    },
    {
      "cell_type": "code",
      "source": [
        "#!pip install jax===0.4.6  jaxlib==0.4.6+cuda11.cudnn86 -f https://storage.googleapis.com/jax-releases/jax_cuda_releases.html\n",
        "#!pip uninstall -y jaxlib\n",
        "#!pip uninstall -y orbax-checkpoint\n",
        "#!pip uninstall -y flax\n",
        "#!pip uninstall -y lida\n",
        "#!pip uninstall -y ibis-framework\n",
        "#!pip uninstall -y llmx\n",
        "#!pip uninstall -y gcsfs\n",
        "#!pip uninstall -y google-colab\n"
      ],
      "metadata": {
        "id": "yUr796bL6Boz"
      },
      "execution_count": null,
      "outputs": []
    },
    {
      "cell_type": "code",
      "execution_count": null,
      "metadata": {
        "id": "-dRKp8aWJ27Y"
      },
      "outputs": [],
      "source": [
        "!pip install jax[cpu]===0.4.6\n",
        "!pip install jaxlib==0.4.6 --no-cache-dir\n",
        "\n",
        "!pip install \\\n",
        "tensorflow==2.13.0 \\\n",
        "numpy==1.23.5 \\\n",
        "scipy==1.10.0 \\\n",
        "matplotlib==3.7.0 \\\n",
        "gdown==4.7.1 \\\n",
        "flax==0.5.3 \\\n",
        "gin-config==0.5.0 \\\n",
        "gin==0.1.6 \\\n",
        "t5==0.9.4 \\\n",
        "sentencepiece==0.1.99 \\\n",
        "absl-py==1.4.0 \\\n",
        "clu==0.0.7 \\\n",
        "optax==0.1.7 \\\n",
        "seqio==0.0.18 \\\n",
        "tensorflow-datasets==4.9.3\n"
      ]
    },
    {
      "cell_type": "code",
      "source": [
        "!pip install \\\n",
        "absl-py==1.4.0 \\\n",
        "array-record==0.4.1 \\\n",
        "astunparse==1.6.3 \\\n",
        "babel==2.13.0 \\\n",
        "beautifulsoup4==4.12.2 \\\n",
        "cached-property==1.5.2 \\\n",
        "cachetools==5.3.1 \\\n",
        "certifi==2023.7.22 \\\n",
        "charset-normalizer==3.3.0 \\\n",
        "chex==0.1.7 \\\n",
        "click==8.1.7 \\\n",
        "clu==0.0.7 \\\n",
        "colorama==0.4.6 \\\n",
        "commonmark==0.9.1 \\\n",
        "contextlib2==21.6.0 \\\n",
        "contourpy==1.1.1 \\\n",
        "cycler==0.12.1 \\\n",
        "dm-tree==0.1.8 \\\n",
        "docstring-parser==0.15 \\\n",
        "editdistance==0.6.2 \\\n",
        "etils[array-types,enp,epath,epy,etqdm,etree]==1.5.1 \\\n",
        "filelock==3.12.4 \\\n",
        "flatbuffers==23.5.26 \\\n",
        "fonttools==4.43.1 \\\n",
        "fsspec==2023.9.2 \\\n",
        "future==0.18.3 \\\n",
        "gast==0.4.0 \\\n",
        "gdown==4.7.1 \\\n",
        "gin==0.1.6 \\\n",
        "gin-config==0.5.0 \\\n",
        "google-auth==2.23.3 \\\n",
        "google-auth-oauthlib==1.0.0 \\\n",
        "google-pasta==0.2.0 \\\n",
        "googleapis-common-protos==1.61.0 \\\n",
        "grpcio==1.59.0 \\\n",
        "h5py==3.10.0 \\\n",
        "huggingface-hub==0.17.3 \\\n",
        "idna==3.4 \\\n",
        "immutabledict==3.0.0 \\\n",
        "importlib-resources==6.1.0 \\\n",
        "joblib==1.3.2 \\\n",
        "keras==2.13.1 \\\n",
        "kiwisolver==1.4.5 \\\n",
        "libclang==16.0.6 \\\n",
        "lxml==4.9.3 \\\n",
        "markdown==3.5 \\\n",
        "markupsafe==2.1.3 \\\n",
        "matplotlib==3.7.0 \\\n",
        "mesh-tensorflow[transformer]==0.1.21 \\\n",
        "ml-collections==0.1.1 \\\n",
        "msgpack==1.0.7 \\\n",
        "nltk==3.8.1 \\\n",
        "numpy==1.23.5 \\\n",
        "oauthlib==3.2.2 \\\n",
        "opt-einsum==3.3.0 \\\n",
        "optax==0.1.7 \\\n",
        "packaging==23.2 \\\n",
        "pandas==2.1.1 \\\n",
        "pillow==10.0.1 \\\n",
        "portalocker==2.8.2 \\\n",
        "promise==2.3 \\\n",
        "protobuf==3.20.3 \\\n",
        "psutil==5.9.5 \\\n",
        "pyasn1==0.5.0 \\\n",
        "pyasn1-modules==0.3.0 \\\n",
        "pyglove==0.4.3 \\\n",
        "pygments==2.16.1 \\\n",
        "pyparsing==3.1.1 \\\n",
        "pysocks==1.7.1 \\\n",
        "python-dateutil==2.8.2 \\\n",
        "pytz==2023.3.post1 \\\n",
        "pyyaml==6.0.1 \\\n",
        "regex==2023.10.3 \\\n",
        "requests[socks]==2.31.0 \\\n",
        "requests-oauthlib==1.3.1 \\\n",
        "rich==11.2.0 \\\n",
        "rouge-score==0.1.2 \\\n",
        "rsa==4.9 \\\n",
        "sacrebleu==2.3.1 \\\n",
        "safetensors==0.4.0 \\\n",
        "scikit-learn==1.3.1 \\\n",
        "scipy==1.10.0 \\\n",
        "sentencepiece==0.1.99 \\\n",
        "seqio==0.0.18 \\\n",
        "seqio-nightly==0.0.17.dev20231013 \\\n",
        "six==1.16.0 \\\n",
        "soupsieve==2.5 \\\n",
        "t5==0.9.4 \\\n",
        "tabulate==0.9.0 \\\n",
        "tensorboard==2.13.0 \\\n",
        "tensorboard-data-server==0.7.1 \\\n",
        "tensorflow==2.13.0 \\\n",
        "tensorflow-datasets==4.9.3 \\\n",
        "tensorflow-estimator==2.13.0 \\\n",
        "tensorflow-hub==0.15.0 \\\n",
        "tensorflow-io-gcs-filesystem==0.34.0 \\\n",
        "tensorflow-metadata==1.14.0 \\\n",
        "tensorflow-text==2.13.0 \\\n",
        "tensorstore==0.1.45 \\\n",
        "termcolor==2.3.0 \\\n",
        "tfds-nightly==4.9.2.dev202308090034 \\\n",
        "threadpoolctl==3.2.0 \\\n",
        "tokenizers==0.14.1 \\\n",
        "toml==0.10.2 \\\n",
        "toolz==0.12.0 \\\n",
        "tqdm==4.66.1 \\\n",
        "transformers==4.34.0 \\\n",
        "typing-extensions==4.5.0 \\\n",
        "tzdata==2023.3 \\\n",
        "urllib3==2.0.6 \\\n",
        "werkzeug==3.0.0 \\\n",
        "wheel==0.41.2 \\\n",
        "wrapt==1.15.0 \\\n",
        "zipp==3.17.0"
      ],
      "metadata": {
        "id": "iISkFxUAkOe8"
      },
      "execution_count": null,
      "outputs": []
    },
    {
      "cell_type": "code",
      "source": [
        "import jax.numpy as jnp\n",
        "from jax import random\n",
        "key = random.PRNGKey(0)\n",
        "x = random.normal(key, (10,))\n",
        "x.devices()"
      ],
      "metadata": {
        "id": "z7nreLmQKiPj"
      },
      "execution_count": null,
      "outputs": []
    },
    {
      "cell_type": "code",
      "source": [
        "import flax"
      ],
      "metadata": {
        "id": "OmRgU-klg66-"
      },
      "execution_count": null,
      "outputs": []
    },
    {
      "cell_type": "code",
      "source": [
        "!git clone https://github.com/google-research/meliad meliad_lib/meliad"
      ],
      "metadata": {
        "id": "PNwm9vJRPWnI"
      },
      "execution_count": null,
      "outputs": []
    },
    {
      "cell_type": "code",
      "source": [
        "!git clone https://github.com/esghif/alphageometry.git"
      ],
      "metadata": {
        "id": "EFiS-1qeQxH5"
      },
      "execution_count": null,
      "outputs": []
    },
    {
      "cell_type": "code",
      "source": [
        "!cd alphageometry && git checkout colab && cd .."
      ],
      "metadata": {
        "id": "HUcqcrOyce-R"
      },
      "execution_count": null,
      "outputs": []
    },
    {
      "cell_type": "code",
      "source": [
        "!mkdir -p ag_ckpt_vocab\n",
        "DATA = \"ag_ckpt_vocab\""
      ],
      "metadata": {
        "id": "V5PPNzT_VIUT"
      },
      "execution_count": null,
      "outputs": []
    },
    {
      "cell_type": "markdown",
      "source": [
        "### Downlaod the 3 files from https://bit.ly/alphageometry and upload to ag_ckpt_vocal using the menu on the left."
      ],
      "metadata": {
        "id": "Xvti_Bd_XIBx"
      }
    },
    {
      "cell_type": "code",
      "source": [
        "import sys\n",
        "MELIAD_PATH = \"meliad_lib/meliad\"\n",
        "ALPHAGEOMETRY_PATH = \"alphageometry\"\n",
        "sys.path.insert(0, MELIAD_PATH)\n",
        "sys.path.insert(0, ALPHAGEOMETRY_PATH)"
      ],
      "metadata": {
        "id": "qQEwZqtFPFJJ"
      },
      "execution_count": null,
      "outputs": []
    },
    {
      "cell_type": "code",
      "source": [
        "from absl import app\n",
        "import alphageometry"
      ],
      "metadata": {
        "id": "-tpHSUxDQdSI"
      },
      "execution_count": null,
      "outputs": []
    },
    {
      "cell_type": "code",
      "source": [
        "DDAR_ARGS = [\n",
        "    \"--defs_file\", f\"{ALPHAGEOMETRY_PATH}/defs.txt\",\n",
        "    \"--rules_file\", f\"{ALPHAGEOMETRY_PATH}/rules.txt\",\n",
        "]"
      ],
      "metadata": {
        "id": "-mcLAGbnRFD4"
      },
      "execution_count": null,
      "outputs": []
    },
    {
      "cell_type": "code",
      "source": [
        "ddar_parameters = [\n",
        "    \"--alsologtostderr\",\n",
        "    \"--problems_file\", f\"{ALPHAGEOMETRY_PATH}/imo_ag_30.txt\",\n",
        "    \"--problem_name\", \"translated_imo_2000_p1\",\n",
        "    \"--mode\", \"ddar\",\n",
        "]\n",
        "parameters = ddar_parameters + DDAR_ARGS\n",
        "sys.argv = sys.argv[:1] + parameters\n",
        "import alphageometry\n",
        "app.run(alphageometry.main)"
      ],
      "metadata": {
        "id": "T6-68OJ_ZU_B"
      },
      "execution_count": null,
      "outputs": []
    },
    {
      "cell_type": "code",
      "source": [
        "BATCH_SIZE = 2\n",
        "BEAM_SIZE = 2\n",
        "DEPTH = 2\n",
        "\n",
        "SEARCH_ARGS = [\n",
        "    \"--beam_size\", f\"{BEAM_SIZE}\",\n",
        "    \"--search_depth\", f\"{DEPTH}\",\n",
        "]\n",
        "\n",
        "LM_ARGS = [\n",
        "    \"--ckpt_path\", DATA,\n",
        "    \"--vocab_path\", f\"{DATA}/geometry.757.model\",\n",
        "    \"--gin_search_paths\", f\"{MELIAD_PATH}/transformer/configs,{ALPHAGEOMETRY_PATH}\",\n",
        "    \"--gin_file\", \"base_htrans.gin\",\n",
        "    \"--gin_file\", \"size/medium_150M.gin\",\n",
        "    \"--gin_file\", \"options/positions_t5.gin\",\n",
        "    \"--gin_file\", \"options/lr_cosine_decay.gin\",\n",
        "    \"--gin_file\", \"options/seq_1024_nocache.gin\",\n",
        "    \"--gin_file\", \"geometry_150M_generate.gin\",\n",
        "    \"--gin_param\", \"DecoderOnlyLanguageModelGenerate.output_token_losses=True\",\n",
        "    \"--gin_param\", f\"TransformerTaskConfig.batch_size={BATCH_SIZE}\",\n",
        "    \"--gin_param\", \"TransformerTaskConfig.sequence_length=128\",\n",
        "    \"--gin_param\", \"Trainer.restore_state_variables=False\",\n",
        "]\n",
        "\n",
        "ag_parameters = [\n",
        "    \"--alsologtostderr\",\n",
        "    \"--problems_file\", f\"{ALPHAGEOMETRY_PATH}/examples.txt\",\n",
        "    \"--problem_name\", \"orthocenter\",\n",
        "    \"--mode\", \"alphageometry\",\n",
        "]\n",
        "parameters = ag_parameters + DDAR_ARGS + SEARCH_ARGS + LM_ARGS\n",
        "sys.argv = sys.argv[:1] + parameters\n",
        "\n",
        "\n",
        "import alphageometry\n",
        "app.run(alphageometry.main)\n"
      ],
      "metadata": {
        "id": "tPzf_saRp-nF"
      },
      "execution_count": null,
      "outputs": []
    }
  ]
}